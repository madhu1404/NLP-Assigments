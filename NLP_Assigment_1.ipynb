{
  "nbformat": 4,
  "nbformat_minor": 0,
  "metadata": {
    "colab": {
      "name": "NLP Assigment-1.ipynb",
      "provenance": [],
      "authorship_tag": "ABX9TyNZel6awA2AvkRYypK8mZoD",
      "include_colab_link": true
    },
    "kernelspec": {
      "name": "python3",
      "display_name": "Python 3"
    },
    "language_info": {
      "name": "python"
    }
  },
  "cells": [
    {
      "cell_type": "markdown",
      "metadata": {
        "id": "view-in-github",
        "colab_type": "text"
      },
      "source": [
        "<a href=\"https://colab.research.google.com/github/madhu1404/NLP-Assigments/blob/main/NLP_Assigment_1.ipynb\" target=\"_parent\"><img src=\"https://colab.research.google.com/assets/colab-badge.svg\" alt=\"Open In Colab\"/></a>"
      ]
    },
    {
      "cell_type": "markdown",
      "source": [
        "# **NLP Assignment-1**\n",
        "\n",
        "#### Name - P Madhu Chandra\n",
        "#### Roll No - 2018IMT-049\n",
        "\n"
      ],
      "metadata": {
        "id": "48LSwViRbRMa"
      }
    },
    {
      "cell_type": "code",
      "execution_count": 22,
      "metadata": {
        "colab": {
          "base_uri": "https://localhost:8080/"
        },
        "id": "VhBkxMhAN3MM",
        "outputId": "cd25bfee-9bf1-4c99-b713-47f417a59229"
      },
      "outputs": [
        {
          "output_type": "stream",
          "name": "stdout",
          "text": [
            "Requirement already satisfied: nltk in /root/.local/lib/python3.7/site-packages (3.6.7)\n",
            "Requirement already satisfied: click in /usr/local/lib/python3.7/dist-packages (from nltk) (7.1.2)\n",
            "Requirement already satisfied: tqdm in /usr/local/lib/python3.7/dist-packages (from nltk) (4.62.3)\n",
            "Requirement already satisfied: regex>=2021.8.3 in /root/.local/lib/python3.7/site-packages (from nltk) (2022.1.18)\n",
            "Requirement already satisfied: joblib in /usr/local/lib/python3.7/dist-packages (from nltk) (1.1.0)\n",
            "[nltk_data] Downloading package punkt to /root/nltk_data...\n",
            "[nltk_data]   Package punkt is already up-to-date!\n",
            "['Hi']\n",
            "['!']\n",
            "['My']\n",
            "['name']\n",
            "['is']\n",
            "['P']\n",
            "['Madhu']\n",
            "['Chandra']\n",
            "['.']\n",
            "['I']\n",
            "['was']\n",
            "['born']\n",
            "['and']\n",
            "['raised']\n",
            "['up']\n",
            "['in']\n",
            "['Hyderbad']\n",
            "['.']\n",
            "['I']\n",
            "[\"'m\"]\n",
            "['currently']\n",
            "['an']\n",
            "['undergraduate']\n",
            "['pursuing']\n",
            "['my']\n",
            "['bachelor']\n",
            "[\"'s\"]\n",
            "['Information']\n",
            "['Technology']\n",
            "['.']\n",
            "['Hi!']\n",
            "['My name is P Madhu Chandra.']\n",
            "['I was born and raised up in Hyderbad.']\n",
            "[\"I'm currently an undergraduate pursuing my bachelor's Information Technology.\"]\n"
          ]
        }
      ],
      "source": [
        "!pip install --user -U nltk\n",
        "\n",
        "import nltk\n",
        "nltk.download('punkt')\n",
        "\n",
        "from nltk.tokenize import word_tokenize \n",
        "\n",
        "text = \"\"\"Hi! My name is P Madhu Chandra. I was born and raised up in Hyderbad. I'm currently an undergraduate pursuing my bachelor's Information Technology.\"\"\"\n",
        "\n",
        "word_tokens=word_tokenize(text)\n",
        "for i in word_tokens:\n",
        "  print([i])\n",
        "\n",
        "from nltk.tokenize import sent_tokenize\n",
        "\n",
        "sent_tokens=sent_tokenize(text)\n",
        "for i in sent_tokens:\n",
        "  print([i])\n"
      ]
    }
  ]
}