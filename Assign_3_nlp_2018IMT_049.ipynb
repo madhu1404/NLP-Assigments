{
  "nbformat": 4,
  "nbformat_minor": 0,
  "metadata": {
    "colab": {
      "name": "Assign-3-nlp-2018IMT-049.ipynb",
      "provenance": [],
      "authorship_tag": "ABX9TyO2/CJRVyr5Yd33u7eUEMm5",
      "include_colab_link": true
    },
    "kernelspec": {
      "name": "python3",
      "display_name": "Python 3"
    },
    "language_info": {
      "name": "python"
    }
  },
  "cells": [
    {
      "cell_type": "markdown",
      "metadata": {
        "id": "view-in-github",
        "colab_type": "text"
      },
      "source": [
        "<a href=\"https://colab.research.google.com/github/madhu1404/NLP-Assigments/blob/main/Assign_3_nlp_2018IMT_049.ipynb\" target=\"_parent\"><img src=\"https://colab.research.google.com/assets/colab-badge.svg\" alt=\"Open In Colab\"/></a>"
      ]
    },
    {
      "cell_type": "markdown",
      "source": [
        "# <center> NLP Assignment-3(Minimum Edit Distance) <br />\n",
        "### Name - P Madhu Chandra \n",
        "### Roll No - 2018IMT-049"
      ],
      "metadata": {
        "id": "qSlAOQMaBCm3"
      }
    },
    {
      "cell_type": "code",
      "execution_count": 1,
      "metadata": {
        "colab": {
          "base_uri": "https://localhost:8080/"
        },
        "id": "RCf_5R2mBAtm",
        "outputId": "fe937022-3e1d-4736-f76c-5ed747fee309"
      },
      "outputs": [
        {
          "output_type": "stream",
          "name": "stdout",
          "text": [
            "3\n"
          ]
        }
      ],
      "source": [
        "str1 = \"expression\"\n",
        "str2 = \"express\"\n",
        "# str1=\"madhu\"\n",
        "# str2=\"chandra\"\n",
        "a = len(str1)\n",
        "b = len(str2)\n",
        "\n",
        "dp = [[0 for x in range(b + 1)] for x in range(a + 1)]\n",
        "\n",
        "for i in range(a + 1):\n",
        "    for j in range(b + 1):\n",
        "            \n",
        "            if i == 0:\n",
        "                dp[i][j] = j\n",
        "            \n",
        "            elif j == 0:\n",
        "                dp[i][j] = i \n",
        "            \n",
        "            else:\n",
        "                N1 = 1 + dp[i][j-1]\n",
        "                N2 = 1 + dp[i-1][j]\n",
        "                N3 = dp[i-1][j-1] if str1[i-1] == str2[j-1] else 2 + dp[i-1][j-1]\n",
        "                dp[i][j] = min(N1, N2, N3)\n",
        "    \n",
        "\n",
        "print(dp[a][b])"
      ]
    }
  ]
}