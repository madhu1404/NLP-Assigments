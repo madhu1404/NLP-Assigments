{
  "nbformat": 4,
  "nbformat_minor": 0,
  "metadata": {
    "colab": {
      "name": "L2_2018IMT_049.ipynb",
      "provenance": [],
      "authorship_tag": "ABX9TyMOtF6o2II/cHe9iOJpUQL8",
      "include_colab_link": true
    },
    "kernelspec": {
      "name": "python3",
      "display_name": "Python 3"
    },
    "language_info": {
      "name": "python"
    }
  },
  "cells": [
    {
      "cell_type": "markdown",
      "metadata": {
        "id": "view-in-github",
        "colab_type": "text"
      },
      "source": [
        "<a href=\"https://colab.research.google.com/github/madhu1404/NLP-Assigments/blob/main/L2_2018IMT_049.ipynb\" target=\"_parent\"><img src=\"https://colab.research.google.com/assets/colab-badge.svg\" alt=\"Open In Colab\"/></a>"
      ]
    },
    {
      "cell_type": "markdown",
      "source": [
        "# <center> NLP Assignment-2(Stemming) <br />\n",
        "### Name - P Madhu Chandra \n",
        "### Roll No - 2018IMT-049"
      ],
      "metadata": {
        "id": "uIUIpnyN1jlh"
      }
    },
    {
      "cell_type": "code",
      "execution_count": 16,
      "metadata": {
        "colab": {
          "base_uri": "https://localhost:8080/"
        },
        "id": "wTQu-yGkmrBf",
        "outputId": "37ef7529-e9eb-47c9-8997-df1c0493a6de"
      },
      "outputs": [
        {
          "output_type": "stream",
          "name": "stdout",
          "text": [
            "[nltk_data] Downloading package punkt to /root/nltk_data...\n",
            "[nltk_data]   Package punkt is already up-to-date!\n",
            "Enter the string for stemming:\n",
            "Two sets of twins are separated by an atrocious storm. Two of them end up in one place, the other two in another, and herein lies the premise of our plot. The pairs of twins meet in the same town, and the comedy begins when the wife and friends of one of the twins mistake the newly arrived brother for the first mentioned.\n",
            "\n",
            " \n",
            "String after stemming:\n",
            "two set of twin are separ by an atroci storm . two of them end up in one place , the other two in anoth , and herein lie the premis of our plot . the pair of twin meet in the same town , and the comedi begin when the wife and friend of one of the twin mistak the newli arriv brother for the first mention .\n",
            "\n",
            " \n",
            "\n"
          ]
        }
      ],
      "source": [
        "import nltk\n",
        "nltk.download('punkt')\n",
        "from nltk.tokenize import word_tokenize\n",
        "from nltk.stem import PorterStemmer\n",
        "\n",
        "#   initializing Porter stemmer\n",
        "Stem = PorterStemmer()\n",
        "\n",
        "#   Taking user input\n",
        "print(\"Enter the string for stemming:\")\n",
        "entered_text =input()\n",
        "#   Word Tokenization\n",
        "tokenized_input = word_tokenize(entered_text)\n",
        "\n",
        "output = []\n",
        "\n",
        "for token in tokenized_input:\n",
        "    output.append(Stem.stem(token))\n",
        "\n",
        "#   String after stemming\n",
        "print(\"\\n \\nString after stemming:\")\n",
        "print(\" \".join(output))\n",
        "print(\"\\n \\n\")"
      ]
    },
    {
      "cell_type": "code",
      "source": [
        "#importing module for stemming\n",
        "from nltk.stem.porter import PorterStemmer\n",
        "ps = PorterStemmer()\n",
        "words=[\"learing\",\"learnt\",\"learful\",\"reading\",\"read\",\"readful\"]\n",
        "print('Original words-', words)\n",
        "stem_words=[]\n",
        "for word in words:\n",
        "    root_word= ps.stem(word)\n",
        "    stem_words.append(root_word)\n",
        "print(\"After stemming -\", stem_words)"
      ],
      "metadata": {
        "colab": {
          "base_uri": "https://localhost:8080/"
        },
        "id": "o1XggKFtyaHT",
        "outputId": "b21aae93-f3bb-409f-e385-1a26f6080f8b"
      },
      "execution_count": 18,
      "outputs": [
        {
          "output_type": "stream",
          "name": "stdout",
          "text": [
            "Original words- ['learing', 'learnt', 'learful', 'reading', 'read', 'readful']\n",
            "After stemming - ['lear', 'learnt', 'lear', 'read', 'read', 'read']\n"
          ]
        }
      ]
    }
  ]
}