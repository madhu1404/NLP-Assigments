{
  "nbformat": 4,
  "nbformat_minor": 0,
  "metadata": {
    "colab": {
      "name": "NLP-L4(2018IMT-049)",
      "provenance": [],
      "include_colab_link": true
    },
    "kernelspec": {
      "name": "python3",
      "display_name": "Python 3"
    },
    "language_info": {
      "name": "python"
    }
  },
  "cells": [
    {
      "cell_type": "markdown",
      "metadata": {
        "id": "view-in-github",
        "colab_type": "text"
      },
      "source": [
        "<a href=\"https://colab.research.google.com/github/madhu1404/NLP-Assigments/blob/main/NLP_L4(2018IMT_049).ipynb\" target=\"_parent\"><img src=\"https://colab.research.google.com/assets/colab-badge.svg\" alt=\"Open In Colab\"/></a>"
      ]
    },
    {
      "cell_type": "markdown",
      "source": [
        "\n",
        "# <center> NLP Assignment-4  <br />\n",
        "### Name: P Madhu Chandra \n",
        "### Roll No: 2018IMT-049\n"
      ],
      "metadata": {
        "id": "yATB-GSAkS0C"
      }
    },
    {
      "cell_type": "code",
      "source": [
        "!pip install -U nltk"
      ],
      "metadata": {
        "colab": {
          "base_uri": "https://localhost:8080/"
        },
        "id": "axZrxiCsUGjx",
        "outputId": "14967127-8b1e-4e98-a4cd-85850ad622e2"
      },
      "execution_count": 27,
      "outputs": [
        {
          "output_type": "stream",
          "name": "stdout",
          "text": [
            "Requirement already satisfied: nltk in /usr/local/lib/python3.7/dist-packages (3.7)\n",
            "Requirement already satisfied: click in /usr/local/lib/python3.7/dist-packages (from nltk) (7.1.2)\n",
            "Requirement already satisfied: tqdm in /usr/local/lib/python3.7/dist-packages (from nltk) (4.63.0)\n",
            "Requirement already satisfied: regex>=2021.8.3 in /usr/local/lib/python3.7/dist-packages (from nltk) (2022.3.2)\n",
            "Requirement already satisfied: joblib in /usr/local/lib/python3.7/dist-packages (from nltk) (1.1.0)\n"
          ]
        }
      ]
    },
    {
      "cell_type": "code",
      "execution_count": 28,
      "metadata": {
        "id": "QeMpZmHlTNSW"
      },
      "outputs": [],
      "source": [
        "import nltk\n",
        "from nltk.util import pad_sequence\n",
        "from nltk.util import bigrams\n",
        "from nltk.util import ngrams\n",
        "from nltk.util import everygrams\n",
        "from nltk.lm.preprocessing import pad_both_ends\n",
        "from nltk.lm.preprocessing import flatten\n",
        "from nltk.lm.preprocessing import padded_everygram_pipeline\n",
        "import requests\n",
        "import io\n",
        "from nltk import word_tokenize, sent_tokenize \n",
        "from nltk.lm import MLE\n",
        "from nltk.tokenize.treebank import TreebankWordDetokenizer\n"
      ]
    },
    {
      "cell_type": "markdown",
      "source": [
        "#   Basic N-gram Language Modelling"
      ],
      "metadata": {
        "id": "cMSpY2kxTS-e"
      }
    },
    {
      "cell_type": "code",
      "source": [
        "text = [['Perumallu', 'Madhu', 'Chandra'], ['how ', 'you', 'doing', 'i', 'am', 'doing', 'good']]"
      ],
      "metadata": {
        "id": "8cCfR4HGTTxt"
      },
      "execution_count": 29,
      "outputs": []
    },
    {
      "cell_type": "code",
      "source": [
        "print(\"---Bigrams and trigrams generated---\")\n",
        "print(*list(bigrams(text[0])),sep=\"\\n\")\n",
        "print(*(list(ngrams(text[1], n=3))),sep=\"\\n\")\n",
        "print()"
      ],
      "metadata": {
        "colab": {
          "base_uri": "https://localhost:8080/"
        },
        "id": "3vyazsXiUQzm",
        "outputId": "2dc127b9-dda7-410b-e064-957397702db3"
      },
      "execution_count": 30,
      "outputs": [
        {
          "output_type": "stream",
          "name": "stdout",
          "text": [
            "---Bigrams and trigrams generated---\n",
            "('Perumallu', 'Madhu')\n",
            "('Madhu', 'Chandra')\n",
            "('how ', 'you', 'doing')\n",
            "('you', 'doing', 'i')\n",
            "('doing', 'i', 'am')\n",
            "('i', 'am', 'doing')\n",
            "('am', 'doing', 'good')\n",
            "\n"
          ]
        }
      ]
    },
    {
      "cell_type": "code",
      "source": [
        "print(\"---Trigrams with padding symbols---\")\n",
        "padded_sent = list(pad_sequence(text[0], pad_left=True, left_pad_symbol=\"<s>\", pad_right=True, right_pad_symbol=\"</s>\", n=3))\n",
        "print(*list(ngrams(padded_sent, n=3)),sep=\"\\n\")\n",
        "print()"
      ],
      "metadata": {
        "colab": {
          "base_uri": "https://localhost:8080/"
        },
        "id": "dUlqFiGNUTIR",
        "outputId": "ca24ef1c-68c7-4fa3-89c5-0658536a4c4b"
      },
      "execution_count": 31,
      "outputs": [
        {
          "output_type": "stream",
          "name": "stdout",
          "text": [
            "---Trigrams with padding symbols---\n",
            "('<s>', '<s>', 'Perumallu')\n",
            "('<s>', 'Perumallu', 'Madhu')\n",
            "('Perumallu', 'Madhu', 'Chandra')\n",
            "('Madhu', 'Chandra', '</s>')\n",
            "('Chandra', '</s>', '</s>')\n",
            "\n"
          ]
        }
      ]
    },
    {
      "cell_type": "code",
      "source": [
        "print(\"---Generated sample N-grams of max length = 2---\")\n",
        "padded_bigrams = list(pad_both_ends(text[0], n=2))\n",
        "print(*list(everygrams(padded_bigrams, max_len=2)),sep=\"\\n\")\n",
        "print()"
      ],
      "metadata": {
        "colab": {
          "base_uri": "https://localhost:8080/"
        },
        "id": "JgJNiJwKUV5D",
        "outputId": "8802ef45-f3de-4469-fe29-8a01a38b0b3d"
      },
      "execution_count": 32,
      "outputs": [
        {
          "output_type": "stream",
          "name": "stdout",
          "text": [
            "---Generated sample N-grams of max length = 2---\n",
            "('<s>',)\n",
            "('<s>', 'Perumallu')\n",
            "('Perumallu',)\n",
            "('Perumallu', 'Madhu')\n",
            "('Madhu',)\n",
            "('Madhu', 'Chandra')\n",
            "('Chandra',)\n",
            "('Chandra', '</s>')\n",
            "('</s>',)\n",
            "\n"
          ]
        }
      ]
    },
    {
      "cell_type": "code",
      "source": [
        "print(\"---Flattened sentences with padding symbols---\")\n",
        "print(*list(flatten(pad_both_ends(sent, n=2) for sent in text)),sep=\"\\n\")\n",
        "print()"
      ],
      "metadata": {
        "colab": {
          "base_uri": "https://localhost:8080/"
        },
        "id": "m9PjHBcWUYP4",
        "outputId": "d4e02fed-0bc9-4eb4-e721-d63fd8f6c8ea"
      },
      "execution_count": 33,
      "outputs": [
        {
          "output_type": "stream",
          "name": "stdout",
          "text": [
            "---Flattened sentences with padding symbols---\n",
            "<s>\n",
            "Perumallu\n",
            "Madhu\n",
            "Chandra\n",
            "</s>\n",
            "<s>\n",
            "how \n",
            "you\n",
            "doing\n",
            "i\n",
            "am\n",
            "doing\n",
            "good\n",
            "</s>\n",
            "\n"
          ]
        }
      ]
    },
    {
      "cell_type": "code",
      "source": [
        "print(\"---Value of lazy iterators - train and vocab---\")\n",
        "training_ngrams, padded_sentences = padded_everygram_pipeline(2, text)\n",
        "print(\"Unigram and bigram training iterators:\")\n",
        "for ngramlize_sent in training_ngrams:\n",
        "    print(list(ngramlize_sent),sep=\"\\n\")\n",
        "    print()\n",
        "print('#############')\n",
        "print(\"Vocabulary iterator:\")\n",
        "print(list(padded_sentences))\n",
        "print()"
      ],
      "metadata": {
        "colab": {
          "base_uri": "https://localhost:8080/"
        },
        "id": "P0IRbuxYUbF4",
        "outputId": "f3625219-3c2a-4aec-a786-01751041ae13"
      },
      "execution_count": 34,
      "outputs": [
        {
          "output_type": "stream",
          "name": "stdout",
          "text": [
            "---Value of lazy iterators - train and vocab---\n",
            "Unigram and bigram training iterators:\n",
            "[('<s>',), ('<s>', 'Perumallu'), ('Perumallu',), ('Perumallu', 'Madhu'), ('Madhu',), ('Madhu', 'Chandra'), ('Chandra',), ('Chandra', '</s>'), ('</s>',)]\n",
            "\n",
            "[('<s>',), ('<s>', 'how '), ('how ',), ('how ', 'you'), ('you',), ('you', 'doing'), ('doing',), ('doing', 'i'), ('i',), ('i', 'am'), ('am',), ('am', 'doing'), ('doing',), ('doing', 'good'), ('good',), ('good', '</s>'), ('</s>',)]\n",
            "\n",
            "#############\n",
            "Vocabulary iterator:\n",
            "['<s>', 'Perumallu', 'Madhu', 'Chandra', '</s>', '<s>', 'how ', 'you', 'doing', 'i', 'am', 'doing', 'good', '</s>']\n",
            "\n"
          ]
        }
      ]
    }
  ]
}